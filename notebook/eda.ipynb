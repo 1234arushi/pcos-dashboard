{
 "cells": [
  {
   "cell_type": "code",
   "execution_count": 1,
   "id": "a74ba5e9-2018-48d3-8ba4-630357fae0d1",
   "metadata": {},
   "outputs": [
    {
     "name": "stdout",
     "output_type": "stream",
     "text": [
      "All libraries loaded\n"
     ]
    }
   ],
   "source": [
    "import pandas as pd\n",
    "import numpy as np\n",
    "import matplotlib.pyplot as plt\n",
    "import seaborn as sns\n",
    "\n",
    "print(\"All libraries loaded\")"
   ]
  },
  {
   "cell_type": "code",
   "execution_count": 2,
   "id": "4fd7f70c-912b-42ae-9a2a-e97a8ebabd55",
   "metadata": {},
   "outputs": [
    {
     "data": {
      "text/html": [
       "<div>\n",
       "<style scoped>\n",
       "    .dataframe tbody tr th:only-of-type {\n",
       "        vertical-align: middle;\n",
       "    }\n",
       "\n",
       "    .dataframe tbody tr th {\n",
       "        vertical-align: top;\n",
       "    }\n",
       "\n",
       "    .dataframe thead th {\n",
       "        text-align: right;\n",
       "    }\n",
       "</style>\n",
       "<table border=\"1\" class=\"dataframe\">\n",
       "  <thead>\n",
       "    <tr style=\"text-align: right;\">\n",
       "      <th></th>\n",
       "      <th>Sl. No</th>\n",
       "      <th>Patient File No.</th>\n",
       "      <th>PCOS (Y/N)</th>\n",
       "      <th>Age (yrs)</th>\n",
       "      <th>Weight (Kg)</th>\n",
       "      <th>Height(Cm)</th>\n",
       "      <th>BMI</th>\n",
       "      <th>Blood Group</th>\n",
       "      <th>Pulse rate(bpm)</th>\n",
       "      <th>RR (breaths/min)</th>\n",
       "      <th>...</th>\n",
       "      <th>Fast food (Y/N)</th>\n",
       "      <th>Reg.Exercise(Y/N)</th>\n",
       "      <th>BP _Systolic (mmHg)</th>\n",
       "      <th>BP _Diastolic (mmHg)</th>\n",
       "      <th>Follicle No. (L)</th>\n",
       "      <th>Follicle No. (R)</th>\n",
       "      <th>Avg. F size (L) (mm)</th>\n",
       "      <th>Avg. F size (R) (mm)</th>\n",
       "      <th>Endometrium (mm)</th>\n",
       "      <th>Unnamed: 44</th>\n",
       "    </tr>\n",
       "  </thead>\n",
       "  <tbody>\n",
       "    <tr>\n",
       "      <th>0</th>\n",
       "      <td>1</td>\n",
       "      <td>1</td>\n",
       "      <td>0</td>\n",
       "      <td>28</td>\n",
       "      <td>44.6</td>\n",
       "      <td>152.0</td>\n",
       "      <td>19.3</td>\n",
       "      <td>15</td>\n",
       "      <td>78</td>\n",
       "      <td>22</td>\n",
       "      <td>...</td>\n",
       "      <td>1.0</td>\n",
       "      <td>0</td>\n",
       "      <td>110</td>\n",
       "      <td>80</td>\n",
       "      <td>3</td>\n",
       "      <td>3</td>\n",
       "      <td>18.0</td>\n",
       "      <td>18.0</td>\n",
       "      <td>8.5</td>\n",
       "      <td>NaN</td>\n",
       "    </tr>\n",
       "    <tr>\n",
       "      <th>1</th>\n",
       "      <td>2</td>\n",
       "      <td>2</td>\n",
       "      <td>0</td>\n",
       "      <td>36</td>\n",
       "      <td>65.0</td>\n",
       "      <td>161.5</td>\n",
       "      <td>24.9</td>\n",
       "      <td>15</td>\n",
       "      <td>74</td>\n",
       "      <td>20</td>\n",
       "      <td>...</td>\n",
       "      <td>0.0</td>\n",
       "      <td>0</td>\n",
       "      <td>120</td>\n",
       "      <td>70</td>\n",
       "      <td>3</td>\n",
       "      <td>5</td>\n",
       "      <td>15.0</td>\n",
       "      <td>14.0</td>\n",
       "      <td>3.7</td>\n",
       "      <td>NaN</td>\n",
       "    </tr>\n",
       "    <tr>\n",
       "      <th>2</th>\n",
       "      <td>3</td>\n",
       "      <td>3</td>\n",
       "      <td>1</td>\n",
       "      <td>33</td>\n",
       "      <td>68.8</td>\n",
       "      <td>165.0</td>\n",
       "      <td>25.3</td>\n",
       "      <td>11</td>\n",
       "      <td>72</td>\n",
       "      <td>18</td>\n",
       "      <td>...</td>\n",
       "      <td>1.0</td>\n",
       "      <td>0</td>\n",
       "      <td>120</td>\n",
       "      <td>80</td>\n",
       "      <td>13</td>\n",
       "      <td>15</td>\n",
       "      <td>18.0</td>\n",
       "      <td>20.0</td>\n",
       "      <td>10.0</td>\n",
       "      <td>NaN</td>\n",
       "    </tr>\n",
       "    <tr>\n",
       "      <th>3</th>\n",
       "      <td>4</td>\n",
       "      <td>4</td>\n",
       "      <td>0</td>\n",
       "      <td>37</td>\n",
       "      <td>65.0</td>\n",
       "      <td>148.0</td>\n",
       "      <td>29.7</td>\n",
       "      <td>13</td>\n",
       "      <td>72</td>\n",
       "      <td>20</td>\n",
       "      <td>...</td>\n",
       "      <td>0.0</td>\n",
       "      <td>0</td>\n",
       "      <td>120</td>\n",
       "      <td>70</td>\n",
       "      <td>2</td>\n",
       "      <td>2</td>\n",
       "      <td>15.0</td>\n",
       "      <td>14.0</td>\n",
       "      <td>7.5</td>\n",
       "      <td>NaN</td>\n",
       "    </tr>\n",
       "    <tr>\n",
       "      <th>4</th>\n",
       "      <td>5</td>\n",
       "      <td>5</td>\n",
       "      <td>0</td>\n",
       "      <td>25</td>\n",
       "      <td>52.0</td>\n",
       "      <td>161.0</td>\n",
       "      <td>20.1</td>\n",
       "      <td>11</td>\n",
       "      <td>72</td>\n",
       "      <td>18</td>\n",
       "      <td>...</td>\n",
       "      <td>0.0</td>\n",
       "      <td>0</td>\n",
       "      <td>120</td>\n",
       "      <td>80</td>\n",
       "      <td>3</td>\n",
       "      <td>4</td>\n",
       "      <td>16.0</td>\n",
       "      <td>14.0</td>\n",
       "      <td>7.0</td>\n",
       "      <td>NaN</td>\n",
       "    </tr>\n",
       "  </tbody>\n",
       "</table>\n",
       "<p>5 rows × 45 columns</p>\n",
       "</div>"
      ],
      "text/plain": [
       "   Sl. No  Patient File No.  PCOS (Y/N)   Age (yrs)  Weight (Kg)  Height(Cm)   \\\n",
       "0       1                 1           0          28         44.6        152.0   \n",
       "1       2                 2           0          36         65.0        161.5   \n",
       "2       3                 3           1          33         68.8        165.0   \n",
       "3       4                 4           0          37         65.0        148.0   \n",
       "4       5                 5           0          25         52.0        161.0   \n",
       "\n",
       "    BMI  Blood Group  Pulse rate(bpm)   RR (breaths/min)  ...  \\\n",
       "0  19.3           15                78                22  ...   \n",
       "1  24.9           15                74                20  ...   \n",
       "2  25.3           11                72                18  ...   \n",
       "3  29.7           13                72                20  ...   \n",
       "4  20.1           11                72                18  ...   \n",
       "\n",
       "   Fast food (Y/N)  Reg.Exercise(Y/N)  BP _Systolic (mmHg)  \\\n",
       "0              1.0                  0                  110   \n",
       "1              0.0                  0                  120   \n",
       "2              1.0                  0                  120   \n",
       "3              0.0                  0                  120   \n",
       "4              0.0                  0                  120   \n",
       "\n",
       "   BP _Diastolic (mmHg)  Follicle No. (L)  Follicle No. (R)  \\\n",
       "0                    80                 3                 3   \n",
       "1                    70                 3                 5   \n",
       "2                    80                13                15   \n",
       "3                    70                 2                 2   \n",
       "4                    80                 3                 4   \n",
       "\n",
       "   Avg. F size (L) (mm) Avg. F size (R) (mm)  Endometrium (mm)  Unnamed: 44  \n",
       "0                  18.0                 18.0               8.5          NaN  \n",
       "1                  15.0                 14.0               3.7          NaN  \n",
       "2                  18.0                 20.0              10.0          NaN  \n",
       "3                  15.0                 14.0               7.5          NaN  \n",
       "4                  16.0                 14.0               7.0          NaN  \n",
       "\n",
       "[5 rows x 45 columns]"
      ]
     },
     "execution_count": 2,
     "metadata": {},
     "output_type": "execute_result"
    }
   ],
   "source": [
    "import pandas as pd\n",
    "df = pd.read_csv(\"../data/PCOS_data.csv\")\n",
    "df.head()#show first 5 rows"
   ]
  },
  {
   "cell_type": "code",
   "execution_count": 3,
   "id": "421cd6db-3b57-41a8-a815-65a648c0ba2d",
   "metadata": {},
   "outputs": [
    {
     "name": "stdout",
     "output_type": "stream",
     "text": [
      "<class 'pandas.core.frame.DataFrame'>\n",
      "RangeIndex: 541 entries, 0 to 540\n",
      "Data columns (total 45 columns):\n",
      " #   Column                  Non-Null Count  Dtype  \n",
      "---  ------                  --------------  -----  \n",
      " 0   Sl. No                  541 non-null    int64  \n",
      " 1   Patient File No.        541 non-null    int64  \n",
      " 2   PCOS (Y/N)              541 non-null    int64  \n",
      " 3    Age (yrs)              541 non-null    int64  \n",
      " 4   Weight (Kg)             541 non-null    float64\n",
      " 5   Height(Cm)              541 non-null    float64\n",
      " 6   BMI                     541 non-null    float64\n",
      " 7   Blood Group             541 non-null    int64  \n",
      " 8   Pulse rate(bpm)         541 non-null    int64  \n",
      " 9   RR (breaths/min)        541 non-null    int64  \n",
      " 10  Hb(g/dl)                541 non-null    float64\n",
      " 11  Cycle(R/I)              541 non-null    int64  \n",
      " 12  Cycle length(days)      541 non-null    int64  \n",
      " 13  Marraige Status (Yrs)   540 non-null    float64\n",
      " 14  Pregnant(Y/N)           541 non-null    int64  \n",
      " 15  No. of abortions        541 non-null    int64  \n",
      " 16    I   beta-HCG(mIU/mL)  541 non-null    float64\n",
      " 17  II    beta-HCG(mIU/mL)  541 non-null    object \n",
      " 18  FSH(mIU/mL)             541 non-null    float64\n",
      " 19  LH(mIU/mL)              541 non-null    float64\n",
      " 20  FSH/LH                  541 non-null    float64\n",
      " 21  Hip(inch)               541 non-null    int64  \n",
      " 22  Waist(inch)             541 non-null    int64  \n",
      " 23  Waist:Hip Ratio         541 non-null    float64\n",
      " 24  TSH (mIU/L)             541 non-null    float64\n",
      " 25  AMH(ng/mL)              541 non-null    object \n",
      " 26  PRL(ng/mL)              541 non-null    float64\n",
      " 27  Vit D3 (ng/mL)          541 non-null    float64\n",
      " 28  PRG(ng/mL)              541 non-null    float64\n",
      " 29  RBS(mg/dl)              541 non-null    float64\n",
      " 30  Weight gain(Y/N)        541 non-null    int64  \n",
      " 31  hair growth(Y/N)        541 non-null    int64  \n",
      " 32  Skin darkening (Y/N)    541 non-null    int64  \n",
      " 33  Hair loss(Y/N)          541 non-null    int64  \n",
      " 34  Pimples(Y/N)            541 non-null    int64  \n",
      " 35  Fast food (Y/N)         540 non-null    float64\n",
      " 36  Reg.Exercise(Y/N)       541 non-null    int64  \n",
      " 37  BP _Systolic (mmHg)     541 non-null    int64  \n",
      " 38  BP _Diastolic (mmHg)    541 non-null    int64  \n",
      " 39  Follicle No. (L)        541 non-null    int64  \n",
      " 40  Follicle No. (R)        541 non-null    int64  \n",
      " 41  Avg. F size (L) (mm)    541 non-null    float64\n",
      " 42  Avg. F size (R) (mm)    541 non-null    float64\n",
      " 43  Endometrium (mm)        541 non-null    float64\n",
      " 44  Unnamed: 44             2 non-null      object \n",
      "dtypes: float64(19), int64(23), object(3)\n",
      "memory usage: 190.3+ KB\n"
     ]
    }
   ],
   "source": [
    "df.info() #col names + datatypes\n"
   ]
  },
  {
   "cell_type": "code",
   "execution_count": 4,
   "id": "785f8ff8-8193-4264-a9ac-d2a0e7061055",
   "metadata": {},
   "outputs": [
    {
     "data": {
      "text/html": [
       "<div>\n",
       "<style scoped>\n",
       "    .dataframe tbody tr th:only-of-type {\n",
       "        vertical-align: middle;\n",
       "    }\n",
       "\n",
       "    .dataframe tbody tr th {\n",
       "        vertical-align: top;\n",
       "    }\n",
       "\n",
       "    .dataframe thead th {\n",
       "        text-align: right;\n",
       "    }\n",
       "</style>\n",
       "<table border=\"1\" class=\"dataframe\">\n",
       "  <thead>\n",
       "    <tr style=\"text-align: right;\">\n",
       "      <th></th>\n",
       "      <th>Sl. No</th>\n",
       "      <th>Patient File No.</th>\n",
       "      <th>PCOS (Y/N)</th>\n",
       "      <th>Age (yrs)</th>\n",
       "      <th>Weight (Kg)</th>\n",
       "      <th>Height(Cm)</th>\n",
       "      <th>BMI</th>\n",
       "      <th>Blood Group</th>\n",
       "      <th>Pulse rate(bpm)</th>\n",
       "      <th>RR (breaths/min)</th>\n",
       "      <th>...</th>\n",
       "      <th>Pimples(Y/N)</th>\n",
       "      <th>Fast food (Y/N)</th>\n",
       "      <th>Reg.Exercise(Y/N)</th>\n",
       "      <th>BP _Systolic (mmHg)</th>\n",
       "      <th>BP _Diastolic (mmHg)</th>\n",
       "      <th>Follicle No. (L)</th>\n",
       "      <th>Follicle No. (R)</th>\n",
       "      <th>Avg. F size (L) (mm)</th>\n",
       "      <th>Avg. F size (R) (mm)</th>\n",
       "      <th>Endometrium (mm)</th>\n",
       "    </tr>\n",
       "  </thead>\n",
       "  <tbody>\n",
       "    <tr>\n",
       "      <th>count</th>\n",
       "      <td>541.000000</td>\n",
       "      <td>541.000000</td>\n",
       "      <td>541.000000</td>\n",
       "      <td>541.000000</td>\n",
       "      <td>541.000000</td>\n",
       "      <td>541.000000</td>\n",
       "      <td>541.000000</td>\n",
       "      <td>541.000000</td>\n",
       "      <td>541.000000</td>\n",
       "      <td>541.000000</td>\n",
       "      <td>...</td>\n",
       "      <td>541.000000</td>\n",
       "      <td>540.000000</td>\n",
       "      <td>541.000000</td>\n",
       "      <td>541.000000</td>\n",
       "      <td>541.000000</td>\n",
       "      <td>541.000000</td>\n",
       "      <td>541.000000</td>\n",
       "      <td>541.000000</td>\n",
       "      <td>541.000000</td>\n",
       "      <td>541.000000</td>\n",
       "    </tr>\n",
       "    <tr>\n",
       "      <th>mean</th>\n",
       "      <td>271.000000</td>\n",
       "      <td>271.000000</td>\n",
       "      <td>0.327172</td>\n",
       "      <td>31.430684</td>\n",
       "      <td>59.637153</td>\n",
       "      <td>156.484835</td>\n",
       "      <td>24.307579</td>\n",
       "      <td>13.802218</td>\n",
       "      <td>73.247689</td>\n",
       "      <td>19.243993</td>\n",
       "      <td>...</td>\n",
       "      <td>0.489834</td>\n",
       "      <td>0.514815</td>\n",
       "      <td>0.247689</td>\n",
       "      <td>114.661738</td>\n",
       "      <td>76.927911</td>\n",
       "      <td>6.129390</td>\n",
       "      <td>6.641405</td>\n",
       "      <td>15.018115</td>\n",
       "      <td>15.451701</td>\n",
       "      <td>8.475915</td>\n",
       "    </tr>\n",
       "    <tr>\n",
       "      <th>std</th>\n",
       "      <td>156.317519</td>\n",
       "      <td>156.317519</td>\n",
       "      <td>0.469615</td>\n",
       "      <td>5.411006</td>\n",
       "      <td>11.028287</td>\n",
       "      <td>6.033545</td>\n",
       "      <td>4.055129</td>\n",
       "      <td>1.840812</td>\n",
       "      <td>4.430285</td>\n",
       "      <td>1.688629</td>\n",
       "      <td>...</td>\n",
       "      <td>0.500359</td>\n",
       "      <td>0.500244</td>\n",
       "      <td>0.432070</td>\n",
       "      <td>7.384556</td>\n",
       "      <td>5.574112</td>\n",
       "      <td>4.229294</td>\n",
       "      <td>4.436889</td>\n",
       "      <td>3.566839</td>\n",
       "      <td>3.318848</td>\n",
       "      <td>2.165381</td>\n",
       "    </tr>\n",
       "    <tr>\n",
       "      <th>min</th>\n",
       "      <td>1.000000</td>\n",
       "      <td>1.000000</td>\n",
       "      <td>0.000000</td>\n",
       "      <td>20.000000</td>\n",
       "      <td>31.000000</td>\n",
       "      <td>137.000000</td>\n",
       "      <td>12.400000</td>\n",
       "      <td>11.000000</td>\n",
       "      <td>13.000000</td>\n",
       "      <td>16.000000</td>\n",
       "      <td>...</td>\n",
       "      <td>0.000000</td>\n",
       "      <td>0.000000</td>\n",
       "      <td>0.000000</td>\n",
       "      <td>12.000000</td>\n",
       "      <td>8.000000</td>\n",
       "      <td>0.000000</td>\n",
       "      <td>0.000000</td>\n",
       "      <td>0.000000</td>\n",
       "      <td>0.000000</td>\n",
       "      <td>0.000000</td>\n",
       "    </tr>\n",
       "    <tr>\n",
       "      <th>25%</th>\n",
       "      <td>136.000000</td>\n",
       "      <td>136.000000</td>\n",
       "      <td>0.000000</td>\n",
       "      <td>28.000000</td>\n",
       "      <td>52.000000</td>\n",
       "      <td>152.000000</td>\n",
       "      <td>21.600000</td>\n",
       "      <td>13.000000</td>\n",
       "      <td>72.000000</td>\n",
       "      <td>18.000000</td>\n",
       "      <td>...</td>\n",
       "      <td>0.000000</td>\n",
       "      <td>0.000000</td>\n",
       "      <td>0.000000</td>\n",
       "      <td>110.000000</td>\n",
       "      <td>70.000000</td>\n",
       "      <td>3.000000</td>\n",
       "      <td>3.000000</td>\n",
       "      <td>13.000000</td>\n",
       "      <td>13.000000</td>\n",
       "      <td>7.000000</td>\n",
       "    </tr>\n",
       "    <tr>\n",
       "      <th>50%</th>\n",
       "      <td>271.000000</td>\n",
       "      <td>271.000000</td>\n",
       "      <td>0.000000</td>\n",
       "      <td>31.000000</td>\n",
       "      <td>59.000000</td>\n",
       "      <td>156.000000</td>\n",
       "      <td>24.200000</td>\n",
       "      <td>14.000000</td>\n",
       "      <td>72.000000</td>\n",
       "      <td>18.000000</td>\n",
       "      <td>...</td>\n",
       "      <td>0.000000</td>\n",
       "      <td>1.000000</td>\n",
       "      <td>0.000000</td>\n",
       "      <td>110.000000</td>\n",
       "      <td>80.000000</td>\n",
       "      <td>5.000000</td>\n",
       "      <td>6.000000</td>\n",
       "      <td>15.000000</td>\n",
       "      <td>16.000000</td>\n",
       "      <td>8.500000</td>\n",
       "    </tr>\n",
       "    <tr>\n",
       "      <th>75%</th>\n",
       "      <td>406.000000</td>\n",
       "      <td>406.000000</td>\n",
       "      <td>1.000000</td>\n",
       "      <td>35.000000</td>\n",
       "      <td>65.000000</td>\n",
       "      <td>160.000000</td>\n",
       "      <td>26.600000</td>\n",
       "      <td>15.000000</td>\n",
       "      <td>74.000000</td>\n",
       "      <td>20.000000</td>\n",
       "      <td>...</td>\n",
       "      <td>1.000000</td>\n",
       "      <td>1.000000</td>\n",
       "      <td>0.000000</td>\n",
       "      <td>120.000000</td>\n",
       "      <td>80.000000</td>\n",
       "      <td>9.000000</td>\n",
       "      <td>10.000000</td>\n",
       "      <td>18.000000</td>\n",
       "      <td>18.000000</td>\n",
       "      <td>9.800000</td>\n",
       "    </tr>\n",
       "    <tr>\n",
       "      <th>max</th>\n",
       "      <td>541.000000</td>\n",
       "      <td>541.000000</td>\n",
       "      <td>1.000000</td>\n",
       "      <td>48.000000</td>\n",
       "      <td>108.000000</td>\n",
       "      <td>180.000000</td>\n",
       "      <td>38.900000</td>\n",
       "      <td>18.000000</td>\n",
       "      <td>82.000000</td>\n",
       "      <td>28.000000</td>\n",
       "      <td>...</td>\n",
       "      <td>1.000000</td>\n",
       "      <td>1.000000</td>\n",
       "      <td>1.000000</td>\n",
       "      <td>140.000000</td>\n",
       "      <td>100.000000</td>\n",
       "      <td>22.000000</td>\n",
       "      <td>20.000000</td>\n",
       "      <td>24.000000</td>\n",
       "      <td>24.000000</td>\n",
       "      <td>18.000000</td>\n",
       "    </tr>\n",
       "  </tbody>\n",
       "</table>\n",
       "<p>8 rows × 42 columns</p>\n",
       "</div>"
      ],
      "text/plain": [
       "           Sl. No  Patient File No.  PCOS (Y/N)   Age (yrs)  Weight (Kg)  \\\n",
       "count  541.000000        541.000000  541.000000  541.000000   541.000000   \n",
       "mean   271.000000        271.000000    0.327172   31.430684    59.637153   \n",
       "std    156.317519        156.317519    0.469615    5.411006    11.028287   \n",
       "min      1.000000          1.000000    0.000000   20.000000    31.000000   \n",
       "25%    136.000000        136.000000    0.000000   28.000000    52.000000   \n",
       "50%    271.000000        271.000000    0.000000   31.000000    59.000000   \n",
       "75%    406.000000        406.000000    1.000000   35.000000    65.000000   \n",
       "max    541.000000        541.000000    1.000000   48.000000   108.000000   \n",
       "\n",
       "       Height(Cm)          BMI  Blood Group  Pulse rate(bpm)   \\\n",
       "count   541.000000  541.000000   541.000000        541.000000   \n",
       "mean    156.484835   24.307579    13.802218         73.247689   \n",
       "std       6.033545    4.055129     1.840812          4.430285   \n",
       "min     137.000000   12.400000    11.000000         13.000000   \n",
       "25%     152.000000   21.600000    13.000000         72.000000   \n",
       "50%     156.000000   24.200000    14.000000         72.000000   \n",
       "75%     160.000000   26.600000    15.000000         74.000000   \n",
       "max     180.000000   38.900000    18.000000         82.000000   \n",
       "\n",
       "       RR (breaths/min)  ...  Pimples(Y/N)  Fast food (Y/N)  \\\n",
       "count        541.000000  ...    541.000000       540.000000   \n",
       "mean          19.243993  ...      0.489834         0.514815   \n",
       "std            1.688629  ...      0.500359         0.500244   \n",
       "min           16.000000  ...      0.000000         0.000000   \n",
       "25%           18.000000  ...      0.000000         0.000000   \n",
       "50%           18.000000  ...      0.000000         1.000000   \n",
       "75%           20.000000  ...      1.000000         1.000000   \n",
       "max           28.000000  ...      1.000000         1.000000   \n",
       "\n",
       "       Reg.Exercise(Y/N)  BP _Systolic (mmHg)  BP _Diastolic (mmHg)  \\\n",
       "count         541.000000           541.000000            541.000000   \n",
       "mean            0.247689           114.661738             76.927911   \n",
       "std             0.432070             7.384556              5.574112   \n",
       "min             0.000000            12.000000              8.000000   \n",
       "25%             0.000000           110.000000             70.000000   \n",
       "50%             0.000000           110.000000             80.000000   \n",
       "75%             0.000000           120.000000             80.000000   \n",
       "max             1.000000           140.000000            100.000000   \n",
       "\n",
       "       Follicle No. (L)  Follicle No. (R)  Avg. F size (L) (mm)  \\\n",
       "count        541.000000        541.000000            541.000000   \n",
       "mean           6.129390          6.641405             15.018115   \n",
       "std            4.229294          4.436889              3.566839   \n",
       "min            0.000000          0.000000              0.000000   \n",
       "25%            3.000000          3.000000             13.000000   \n",
       "50%            5.000000          6.000000             15.000000   \n",
       "75%            9.000000         10.000000             18.000000   \n",
       "max           22.000000         20.000000             24.000000   \n",
       "\n",
       "       Avg. F size (R) (mm)  Endometrium (mm)  \n",
       "count            541.000000        541.000000  \n",
       "mean              15.451701          8.475915  \n",
       "std                3.318848          2.165381  \n",
       "min                0.000000          0.000000  \n",
       "25%               13.000000          7.000000  \n",
       "50%               16.000000          8.500000  \n",
       "75%               18.000000          9.800000  \n",
       "max               24.000000         18.000000  \n",
       "\n",
       "[8 rows x 42 columns]"
      ]
     },
     "execution_count": 4,
     "metadata": {},
     "output_type": "execute_result"
    }
   ],
   "source": [
    "df.describe() #mean,median,std of numeric col\n"
   ]
  },
  {
   "cell_type": "code",
   "execution_count": 5,
   "id": "be445b69-8470-420e-a659-738909052ba8",
   "metadata": {},
   "outputs": [
    {
     "data": {
      "text/plain": [
       "Sl. No                      0\n",
       "Patient File No.            0\n",
       "PCOS (Y/N)                  0\n",
       " Age (yrs)                  0\n",
       "Weight (Kg)                 0\n",
       "Height(Cm)                  0\n",
       "BMI                         0\n",
       "Blood Group                 0\n",
       "Pulse rate(bpm)             0\n",
       "RR (breaths/min)            0\n",
       "Hb(g/dl)                    0\n",
       "Cycle(R/I)                  0\n",
       "Cycle length(days)          0\n",
       "Marraige Status (Yrs)       1\n",
       "Pregnant(Y/N)               0\n",
       "No. of abortions            0\n",
       "  I   beta-HCG(mIU/mL)      0\n",
       "II    beta-HCG(mIU/mL)      0\n",
       "FSH(mIU/mL)                 0\n",
       "LH(mIU/mL)                  0\n",
       "FSH/LH                      0\n",
       "Hip(inch)                   0\n",
       "Waist(inch)                 0\n",
       "Waist:Hip Ratio             0\n",
       "TSH (mIU/L)                 0\n",
       "AMH(ng/mL)                  0\n",
       "PRL(ng/mL)                  0\n",
       "Vit D3 (ng/mL)              0\n",
       "PRG(ng/mL)                  0\n",
       "RBS(mg/dl)                  0\n",
       "Weight gain(Y/N)            0\n",
       "hair growth(Y/N)            0\n",
       "Skin darkening (Y/N)        0\n",
       "Hair loss(Y/N)              0\n",
       "Pimples(Y/N)                0\n",
       "Fast food (Y/N)             1\n",
       "Reg.Exercise(Y/N)           0\n",
       "BP _Systolic (mmHg)         0\n",
       "BP _Diastolic (mmHg)        0\n",
       "Follicle No. (L)            0\n",
       "Follicle No. (R)            0\n",
       "Avg. F size (L) (mm)        0\n",
       "Avg. F size (R) (mm)        0\n",
       "Endometrium (mm)            0\n",
       "Unnamed: 44               539\n",
       "dtype: int64"
      ]
     },
     "execution_count": 5,
     "metadata": {},
     "output_type": "execute_result"
    }
   ],
   "source": [
    "df.isnull().sum()#count how many missing values per column"
   ]
  },
  {
   "cell_type": "code",
   "execution_count": 6,
   "id": "88f1cd48-c958-4e46-ba30-0de94784cfc1",
   "metadata": {},
   "outputs": [
    {
     "data": {
      "text/plain": [
       "np.int64(0)"
      ]
     },
     "execution_count": 6,
     "metadata": {},
     "output_type": "execute_result"
    }
   ],
   "source": [
    "df.duplicated().sum()#count duplicate rows"
   ]
  },
  {
   "cell_type": "code",
   "execution_count": 7,
   "id": "664e9e7a-42ab-4464-8ff2-fbfd8585abb8",
   "metadata": {},
   "outputs": [
    {
     "name": "stdout",
     "output_type": "stream",
     "text": [
      "['Sl. No', 'Patient File No.', 'PCOS (Y/N)', ' Age (yrs)', 'Weight (Kg)', 'Height(Cm) ', 'BMI', 'Blood Group', 'Pulse rate(bpm) ', 'RR (breaths/min)', 'Hb(g/dl)', 'Cycle(R/I)', 'Cycle length(days)', 'Marraige Status (Yrs)', 'Pregnant(Y/N)', 'No. of abortions', '  I   beta-HCG(mIU/mL)', 'II    beta-HCG(mIU/mL)', 'FSH(mIU/mL)', 'LH(mIU/mL)', 'FSH/LH', 'Hip(inch)', 'Waist(inch)', 'Waist:Hip Ratio', 'TSH (mIU/L)', 'AMH(ng/mL)', 'PRL(ng/mL)', 'Vit D3 (ng/mL)', 'PRG(ng/mL)', 'RBS(mg/dl)', 'Weight gain(Y/N)', 'hair growth(Y/N)', 'Skin darkening (Y/N)', 'Hair loss(Y/N)', 'Pimples(Y/N)', 'Fast food (Y/N)', 'Reg.Exercise(Y/N)', 'BP _Systolic (mmHg)', 'BP _Diastolic (mmHg)', 'Follicle No. (L)', 'Follicle No. (R)', 'Avg. F size (L) (mm)', 'Avg. F size (R) (mm)', 'Endometrium (mm)', 'Unnamed: 44']\n"
     ]
    }
   ],
   "source": [
    "print(df.columns.tolist())#print exact names(including spaces)"
   ]
  },
  {
   "cell_type": "code",
   "execution_count": 8,
   "id": "fdaf622b-6e71-4105-bcc2-4e58e03c0f6c",
   "metadata": {},
   "outputs": [],
   "source": [
    "df.columns=df.columns.str.strip()"
   ]
  },
  {
   "cell_type": "code",
   "execution_count": 10,
   "id": "33d67b22-3f7b-4b50-972a-ac6f0c3b84d5",
   "metadata": {},
   "outputs": [],
   "source": [
    "df = df.drop(columns=[\n",
    "    \"TSH (mIU/L)\", \"AMH(ng/mL)\", \"PRL(ng/mL)\", \"PRG(ng/mL)\", \"RBS(mg/dl)\",\n",
    "    \"BP _Systolic (mmHg)\", \"BP _Diastolic (mmHg)\", \"Follicle No. (L)\", \n",
    "    \"Follicle No. (R)\", \"Avg. F size (L) (mm)\", \"Avg. F size (R) (mm)\", \n",
    "    \"Endometrium (mm)\", \"Sl. No\", \"Patient File No.\", \"Pulse rate(bpm)\", \n",
    "    \"RR (breaths/min)\", \"Hb(g/dl)\", \"No. of abortions\", \n",
    "    \"I   beta-HCG(mIU/mL)\", \"II    beta-HCG(mIU/mL)\", \"FSH(mIU/mL)\"\n",
    "], errors=\"ignore\")\n"
   ]
  },
  {
   "cell_type": "code",
   "execution_count": 12,
   "id": "a3de388b-62d3-47e1-9300-985c68d39bca",
   "metadata": {},
   "outputs": [],
   "source": [
    "df=df.drop(columns=[\"LH(mIU/mL)\",\"FSH/LH\",\"Hip(inch)\",\"Waist:Hip Ratio\"],errors='ignore')"
   ]
  },
  {
   "cell_type": "code",
   "execution_count": 13,
   "id": "4219c317-21dd-43d6-becb-2e6f72de3899",
   "metadata": {},
   "outputs": [
    {
     "name": "stdout",
     "output_type": "stream",
     "text": [
      "<class 'pandas.core.frame.DataFrame'>\n",
      "RangeIndex: 541 entries, 0 to 540\n",
      "Data columns (total 20 columns):\n",
      " #   Column                 Non-Null Count  Dtype  \n",
      "---  ------                 --------------  -----  \n",
      " 0   PCOS (Y/N)             541 non-null    int64  \n",
      " 1   Age (yrs)              541 non-null    int64  \n",
      " 2   Weight (Kg)            541 non-null    float64\n",
      " 3   Height(Cm)             541 non-null    float64\n",
      " 4   BMI                    541 non-null    float64\n",
      " 5   Blood Group            541 non-null    int64  \n",
      " 6   Cycle(R/I)             541 non-null    int64  \n",
      " 7   Cycle length(days)     541 non-null    int64  \n",
      " 8   Marraige Status (Yrs)  540 non-null    float64\n",
      " 9   Pregnant(Y/N)          541 non-null    int64  \n",
      " 10  Waist(inch)            541 non-null    int64  \n",
      " 11  Vit D3 (ng/mL)         541 non-null    float64\n",
      " 12  Weight gain(Y/N)       541 non-null    int64  \n",
      " 13  hair growth(Y/N)       541 non-null    int64  \n",
      " 14  Skin darkening (Y/N)   541 non-null    int64  \n",
      " 15  Hair loss(Y/N)         541 non-null    int64  \n",
      " 16  Pimples(Y/N)           541 non-null    int64  \n",
      " 17  Fast food (Y/N)        540 non-null    float64\n",
      " 18  Reg.Exercise(Y/N)      541 non-null    int64  \n",
      " 19  Unnamed: 44            2 non-null      object \n",
      "dtypes: float64(6), int64(13), object(1)\n",
      "memory usage: 84.7+ KB\n"
     ]
    }
   ],
   "source": [
    "df.info()\n"
   ]
  },
  {
   "cell_type": "code",
   "execution_count": 14,
   "id": "faae665a-dfbb-4041-a1bb-840a61420c32",
   "metadata": {},
   "outputs": [],
   "source": [
    "df=df.drop(columns=[\"Unnamed: 44\"],errors='ignore')"
   ]
  },
  {
   "cell_type": "code",
   "execution_count": 15,
   "id": "f6e1583e-f2e2-4011-be6d-9041c7d8b66f",
   "metadata": {},
   "outputs": [
    {
     "name": "stdout",
     "output_type": "stream",
     "text": [
      "<class 'pandas.core.frame.DataFrame'>\n",
      "RangeIndex: 541 entries, 0 to 540\n",
      "Data columns (total 19 columns):\n",
      " #   Column                 Non-Null Count  Dtype  \n",
      "---  ------                 --------------  -----  \n",
      " 0   PCOS (Y/N)             541 non-null    int64  \n",
      " 1   Age (yrs)              541 non-null    int64  \n",
      " 2   Weight (Kg)            541 non-null    float64\n",
      " 3   Height(Cm)             541 non-null    float64\n",
      " 4   BMI                    541 non-null    float64\n",
      " 5   Blood Group            541 non-null    int64  \n",
      " 6   Cycle(R/I)             541 non-null    int64  \n",
      " 7   Cycle length(days)     541 non-null    int64  \n",
      " 8   Marraige Status (Yrs)  540 non-null    float64\n",
      " 9   Pregnant(Y/N)          541 non-null    int64  \n",
      " 10  Waist(inch)            541 non-null    int64  \n",
      " 11  Vit D3 (ng/mL)         541 non-null    float64\n",
      " 12  Weight gain(Y/N)       541 non-null    int64  \n",
      " 13  hair growth(Y/N)       541 non-null    int64  \n",
      " 14  Skin darkening (Y/N)   541 non-null    int64  \n",
      " 15  Hair loss(Y/N)         541 non-null    int64  \n",
      " 16  Pimples(Y/N)           541 non-null    int64  \n",
      " 17  Fast food (Y/N)        540 non-null    float64\n",
      " 18  Reg.Exercise(Y/N)      541 non-null    int64  \n",
      "dtypes: float64(6), int64(13)\n",
      "memory usage: 80.4 KB\n"
     ]
    }
   ],
   "source": [
    "df.info()"
   ]
  },
  {
   "cell_type": "code",
   "execution_count": 16,
   "id": "48e0fc24-d508-4254-9f91-e4c92f82d9ec",
   "metadata": {},
   "outputs": [],
   "source": [
    "df[\"Marraige Status (Yrs)\"]=df[\"Marraige Status (Yrs)\"].fillna(df[\"Marraige Status (Yrs)\"].mode()[0])#mode()->can return multiple values\n",
    "#hence,[0] ensures that only 1 value is picked"
   ]
  },
  {
   "cell_type": "code",
   "execution_count": 17,
   "id": "291c93e4-f46d-4fa5-8426-157cb8cba9dc",
   "metadata": {},
   "outputs": [],
   "source": [
    "df[\"Fast food (Y/N)\"]=df[\"Fast food (Y/N)\"].fillna(df[\"Fast food (Y/N)\"].mode()[0])"
   ]
  },
  {
   "cell_type": "code",
   "execution_count": 18,
   "id": "27a099c3-9f31-4809-b123-271f9b238270",
   "metadata": {},
   "outputs": [],
   "source": [
    "df.to_csv(\"../data/pcos_clean.csv\",index = False)"
   ]
  },
  {
   "cell_type": "code",
   "execution_count": 19,
   "id": "57473a85-9e50-4130-9dfa-e041c2b4b616",
   "metadata": {},
   "outputs": [
    {
     "data": {
      "text/plain": [
       "Cycle(R/I)\n",
       "2    0.210256\n",
       "4    0.626667\n",
       "5    1.000000\n",
       "Name: PCOS (Y/N), dtype: float64"
      ]
     },
     "execution_count": 19,
     "metadata": {},
     "output_type": "execute_result"
    }
   ],
   "source": [
    "df.groupby(\"Cycle(R/I)\")[\"PCOS (Y/N)\"].mean()"
   ]
  },
  {
   "cell_type": "code",
   "execution_count": 20,
   "id": "f20e6900-2001-4d3c-a484-c494e82b4b14",
   "metadata": {},
   "outputs": [
    {
     "data": {
      "text/plain": [
       "Cycle(R/I)\n",
       "2    390\n",
       "4    150\n",
       "5      1\n",
       "Name: count, dtype: int64"
      ]
     },
     "execution_count": 20,
     "metadata": {},
     "output_type": "execute_result"
    }
   ],
   "source": [
    "df[\"Cycle(R/I)\"].value_counts()#finds how many times each unique value appears"
   ]
  },
  {
   "cell_type": "code",
   "execution_count": 21,
   "id": "0cb9cebf-1d9a-4676-bf95-01906947c723",
   "metadata": {},
   "outputs": [],
   "source": [
    "#seeing that 2->21% women have pcos and 4,5->have max % of women having pcos,so we will simplify\n",
    "#to a binary column\n",
    "\n",
    "df[\"Cycle(R/I)\"]=df[\"Cycle(R/I)\"].replace({2:0,4:1,5:1})"
   ]
  },
  {
   "cell_type": "code",
   "execution_count": 22,
   "id": "5c29c7d4-8a77-4dfc-8a91-412118c05817",
   "metadata": {},
   "outputs": [
    {
     "data": {
      "text/plain": [
       "Cycle(R/I)\n",
       "0    390\n",
       "1    151\n",
       "Name: count, dtype: int64"
      ]
     },
     "execution_count": 22,
     "metadata": {},
     "output_type": "execute_result"
    }
   ],
   "source": [
    "df[\"Cycle(R/I)\"].value_counts()"
   ]
  },
  {
   "cell_type": "code",
   "execution_count": 28,
   "id": "b44564fb-0ce2-40e9-9956-694fafe4d3dd",
   "metadata": {},
   "outputs": [
    {
     "data": {
      "image/png": "[encoded data removed]",
      "text/plain": [
       "<Figure size 640x480 with 1 Axes>"
      ]
     },
     "metadata": {},
     "output_type": "display_data"
    }
   ],
   "source": [
    "#checks how many patients have pcos\n",
    "sns.countplot(x=\"PCOS\",data=df)\n",
    "plt.title(\"PCOS Distribution\")\n",
    "plt.show()"
   ]
  },
  {
   "cell_type": "code",
   "execution_count": 29,
   "id": "e2207b00-d217-4adb-ad54-2d9b4551f0bc",
   "metadata": {},
   "outputs": [
    {
     "data": {
      "image/png": "[encoded data removed]",
      "text/plain": [
       "<Figure size 640x480 with 1 Axes>"
      ]
     },
     "metadata": {},
     "output_type": "display_data"
    }
   ],
   "source": [
    "#comparing features\n",
    "sns.boxplot(x=\"PCOS\",y=\"BMI\",data=df)\n",
    "plt.title(\"BMI vs PCOS\")\n",
    "plt.savefig(\"../images/bmi_vs_pcos.png\", dpi=300, bbox_inches='tight')\n",
    "plt.show()"
   ]
  },
  {
   "cell_type": "code",
   "execution_count": 25,
   "id": "b599bdf2-3c7d-438b-a0db-5173f92af1ba",
   "metadata": {},
   "outputs": [],
   "source": [
    "df =df.rename(columns={\n",
    "   \n",
    "    \"PCOS (Y/N)\": \"PCOS\",\n",
    "    \"Age (yrs)\": \"Age\",\n",
    "    \"Weight (Kg)\": \"Weight\",\n",
    "    \"Height(Cm)\": \"Height\",\n",
    "    \"BMI\": \"BMI\",\n",
    "    \"Blood Group\": \"Blood_Group\",\n",
    "    \"Cycle(R/I)\": \"Cycle_Type\",\n",
    "    \"Cycle length(days)\": \"Cycle_Length\",\n",
    "    \"Marraige Status (Yrs)\": \"Marriage_Years\",\n",
    "    \"Pregnant(Y/N)\": \"Pregnant\",\n",
    "    \"Waist(inch)\": \"Waist\",\n",
    "    \"Vit D3 (ng/mL)\": \"VitD3\",\n",
    "    \"Weight gain(Y/N)\": \"Weight_Gain\",\n",
    "    \"hair growth(Y/N)\": \"Hair_Growth\",\n",
    "    \"Skin darkening (Y/N)\": \"Skin_Darkening\",\n",
    "    \"Hair loss(Y/N)\": \"Hair_Loss\",\n",
    "    \"Pimples(Y/N)\": \"Pimples\",\n",
    "    \"Fast food (Y/N)\": \"Fast_Food\",\n",
    "    \"Reg.Exercise(Y/N)\": \"Exercise\"\n",
    "\n",
    "\n",
    "})"
   ]
  },
  {
   "cell_type": "code",
   "execution_count": null,
   "id": "0838b67d-d66e-4669-b223-330d2059c1eb",
   "metadata": {},
   "outputs": [],
   "source": [
    "df.info()"
   ]
  },
  {
   "cell_type": "code",
   "execution_count": null,
   "id": "db26350f-c0d3-4951-8682-f406299d1388",
   "metadata": {},
   "outputs": [],
   "source": [
    "plt.figure(figsize=(12,8))\n",
    "sns.heatmap(df.corr(),cmap=\"coolwarm\",annot=False)\n",
    "plt.title(\"Feature Correlation Heatmap\")\n",
    "plt.savefig(\"../images/heatmap.png\",dpi=300,bbox_inches='tight')\n",
    "plt.show\n",
    "\n",
    "#pcos vs age -> -0.2 (as age increases chances of pcos decreases)"
   ]
  },
  {
   "cell_type": "code",
   "execution_count": 30,
   "id": "8523201c-5d3d-4784-acbc-0a9f2d328830",
   "metadata": {},
   "outputs": [
    {
     "data": {
      "image/png": "[encoded data removed]",
      "text/plain": [
       "<Figure size 640x480 with 1 Axes>"
      ]
     },
     "metadata": {},
     "output_type": "display_data"
    }
   ],
   "source": [
    "#hue -> splits the bar by the values of PCOS\n",
    "# x-axis : two blocks : 0(no fast food) and 1(yes fast food)\n",
    "sns.countplot(x=\"Fast_Food\",hue=\"PCOS\",data=df)\n",
    "plt.title(\"Fast Food Habit vs PCOS\")\n",
    "plt.savefig(\"../images/fastfood_vs_pcos.png\", dpi=300, bbox_inches='tight')\n",
    "plt.show()"
   ]
  },
  {
   "cell_type": "code",
   "execution_count": 32,
   "id": "d923360d-5b90-4adc-8bff-eea613dcbfb8",
   "metadata": {},
   "outputs": [],
   "source": [
    "df.to_csv(\"../data/pcos_clean2.csv\",index = False)"
   ]
  },
  {
   "cell_type": "code",
   "execution_count": 33,
   "id": "580f5430-3f4e-42d3-a3f4-5f473ddd6249",
   "metadata": {},
   "outputs": [
    {
     "data": {
      "text/plain": [
       "PCOS              0\n",
       "Age               0\n",
       "Weight            0\n",
       "Height            0\n",
       "BMI               0\n",
       "Blood_Group       0\n",
       "Cycle_Type        0\n",
       "Cycle_Length      0\n",
       "Marriage_Years    0\n",
       "Pregnant          0\n",
       "Waist             0\n",
       "VitD3             0\n",
       "Weight_Gain       0\n",
       "Hair_Growth       0\n",
       "Skin_Darkening    0\n",
       "Hair_Loss         0\n",
       "Pimples           0\n",
       "Fast_Food         0\n",
       "Exercise          0\n",
       "dtype: int64"
      ]
     },
     "execution_count": 33,
     "metadata": {},
     "output_type": "execute_result"
    }
   ],
   "source": [
    "df.isnull().sum()"
   ]
  },
  {
   "cell_type": "code",
   "execution_count": null,
   "id": "15406f2b-0bc2-4d40-bba2-d7854b2e8cec",
   "metadata": {},
   "outputs": [],
   "source": []
  },
  {
   "cell_type": "code",
   "execution_count": null,
   "id": "9675ffdf-6ae6-4217-a590-8a0f1a7ac1c5",
   "metadata": {},
   "outputs": [],
   "source": []
  }
 ],
 "metadata": {
  "kernelspec": {
   "display_name": "Python 3 (ipykernel)",
   "language": "python",
   "name": "python3"
  },
  "language_info": {
   "codemirror_mode": {
    "name": "ipython",
    "version": 3
   },
   "file_extension": ".py",
   "mimetype": "text/x-python",
   "name": "python",
   "nbconvert_exporter": "python",
   "pygments_lexer": "ipython3",
   "version": "3.9.6"
  }
 },
 "nbformat": 4,
 "nbformat_minor": 5
}
